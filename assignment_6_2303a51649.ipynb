{
  "nbformat": 4,
  "nbformat_minor": 0,
  "metadata": {
    "colab": {
      "provenance": [],
      "include_colab_link": true
    },
    "kernelspec": {
      "name": "python3",
      "display_name": "Python 3"
    },
    "language_info": {
      "name": "python"
    }
  },
  "cells": [
    {
      "cell_type": "markdown",
      "metadata": {
        "id": "view-in-github",
        "colab_type": "text"
      },
      "source": [
        "<a href=\"https://colab.research.google.com/github/Rangarajulokesh/DATA-MINING/blob/main/assignment_6_2303a51649.ipynb\" target=\"_parent\"><img src=\"https://colab.research.google.com/assets/colab-badge.svg\" alt=\"Open In Colab\"/></a>"
      ]
    },
    {
      "cell_type": "code",
      "source": [
        "import pandas as pd\n",
        "from sklearn.preprocessing import LabelEncoder\n",
        "from datetime import datetime\n",
        "\n",
        "print(\"\\n Data Encoding\")\n",
        "data = {'Product': ['Laptop', 'Phone', 'Tablet', 'Laptop', 'Phone', 'Tablet', 'Laptop']}\n",
        "df = pd.DataFrame(data)\n",
        "\n",
        "label_encoder = LabelEncoder()\n",
        "df['Product_Encoded'] = label_encoder.fit_transform(df['Product'])\n",
        "\n",
        "one_hot_encoded = pd.get_dummies(df['Product'], prefix='Product')\n",
        "df = pd.concat([df, one_hot_encoded], axis=1)\n",
        "print(df)\n",
        "\n",
        "print(\"\\n Creating Derived Columns (Age from Manufacturing Date)\")\n",
        "data = {\n",
        "    'Model': ['A1', 'B2', 'C3', 'D4', 'E5'],\n",
        "    'Manufacturing_Date': ['2018-06-10', '2015-09-23', '2020-11-15', '2017-04-05', '2019-12-30']\n",
        "}\n",
        "df = pd.DataFrame(data)\n",
        "\n",
        "df['Manufacturing_Date'] = pd.to_datetime(df['Manufacturing_Date'])\n",
        "current_year = datetime.now().year\n",
        "df['Product_Age'] = current_year - df['Manufacturing_Date'].dt.year\n",
        "print(df)\n",
        "\n",
        "print(\"\\n Grouping and Aggregating Data\")\n",
        "data = {\n",
        "    'Store': ['Walmart', 'Walmart', 'BestBuy', 'BestBuy', 'Amazon', 'Amazon', 'Walmart', 'BestBuy', 'Amazon'],\n",
        "    'Sales': [15000, 18000, 22000, 25000, 30000, 35000, 17000, 26000, 40000]\n",
        "}\n",
        "df = pd.DataFrame(data)\n",
        "\n",
        "grouped = df.groupby('Store').agg({'Sales': ['sum', 'mean']})\n",
        "print(\"Grouped Data:\\n\", grouped)\n",
        "\n",
        "pivot = df.pivot_table(index='Store', values='Sales', aggfunc=['sum', 'mean'])\n",
        "print(\"\\nPivot Table:\\n\", pivot)\n"
      ],
      "metadata": {
        "colab": {
          "base_uri": "https://localhost:8080/"
        },
        "id": "EzHeT-dULPvU",
        "outputId": "b1204c7d-6d0b-49f2-d2e2-331fa1e7a57a"
      },
      "execution_count": null,
      "outputs": [
        {
          "output_type": "stream",
          "name": "stdout",
          "text": [
            "\n",
            " Data Encoding\n",
            "  Product  Product_Encoded  Product_Laptop  Product_Phone  Product_Tablet\n",
            "0  Laptop                0            True          False           False\n",
            "1   Phone                1           False           True           False\n",
            "2  Tablet                2           False          False            True\n",
            "3  Laptop                0            True          False           False\n",
            "4   Phone                1           False           True           False\n",
            "5  Tablet                2           False          False            True\n",
            "6  Laptop                0            True          False           False\n",
            "\n",
            " Creating Derived Columns (Age from Manufacturing Date)\n",
            "  Model Manufacturing_Date  Product_Age\n",
            "0    A1         2018-06-10            7\n",
            "1    B2         2015-09-23           10\n",
            "2    C3         2020-11-15            5\n",
            "3    D4         2017-04-05            8\n",
            "4    E5         2019-12-30            6\n",
            "\n",
            " Grouping and Aggregating Data\n",
            "Grouped Data:\n",
            "           Sales              \n",
            "            sum          mean\n",
            "Store                        \n",
            "Amazon   105000  35000.000000\n",
            "BestBuy   73000  24333.333333\n",
            "Walmart   50000  16666.666667\n",
            "\n",
            "Pivot Table:\n",
            "             sum          mean\n",
            "          Sales         Sales\n",
            "Store                        \n",
            "Amazon   105000  35000.000000\n",
            "BestBuy   73000  24333.333333\n",
            "Walmart   50000  16666.666667\n"
          ]
        }
      ]
    }
  ]
}